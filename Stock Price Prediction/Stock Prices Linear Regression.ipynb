{
 "cells": [
  {
   "cell_type": "markdown",
   "id": "fbd0fc8b",
   "metadata": {},
   "source": [
    "# Stock Price Prediction using Linear Regression"
   ]
  },
  {
   "cell_type": "markdown",
   "id": "adf2a70a",
   "metadata": {},
   "source": [
    "Predicting the stock market has been the bane and goal of investors since its inception. Every day billions of dollars are traded on the stock exchange, and behind every dollar is an investor hoping to make a profit in one way or another.\n",
    "\n",
    "Entire companies rise and fall daily depending on market behaviour. If an investor is able to accurately predict market movements, he offers a tantalizing promise of wealth and influence.\n",
    "\n",
    "Let’s see how to predict stock prices using Machine Learning and the python programming language. I will start this task by importing all the necessary python libraries that we need for this task:"
   ]
  },
  {
   "cell_type": "code",
   "execution_count": 1,
   "id": "a08b364c",
   "metadata": {},
   "outputs": [],
   "source": [
    "import numpy as np\n",
    "import pandas as pd\n",
    "from sklearn import preprocessing\n",
    "from sklearn.model_selection import train_test_split\n",
    "from sklearn.linear_model import LinearRegression"
   ]
  },
  {
   "cell_type": "markdown",
   "id": "b6f85694",
   "metadata": {},
   "source": [
    "## Data Preperation"
   ]
  },
  {
   "cell_type": "code",
   "execution_count": 2,
   "id": "e2a3be9a",
   "metadata": {},
   "outputs": [],
   "source": [
    "df=pd.read_csv('AAPL.csv')"
   ]
  },
  {
   "cell_type": "code",
   "execution_count": 3,
   "id": "e8e7eeae",
   "metadata": {},
   "outputs": [
    {
     "data": {
      "text/html": [
       "<div>\n",
       "<style scoped>\n",
       "    .dataframe tbody tr th:only-of-type {\n",
       "        vertical-align: middle;\n",
       "    }\n",
       "\n",
       "    .dataframe tbody tr th {\n",
       "        vertical-align: top;\n",
       "    }\n",
       "\n",
       "    .dataframe thead th {\n",
       "        text-align: right;\n",
       "    }\n",
       "</style>\n",
       "<table border=\"1\" class=\"dataframe\">\n",
       "  <thead>\n",
       "    <tr style=\"text-align: right;\">\n",
       "      <th></th>\n",
       "      <th>Unnamed: 0</th>\n",
       "      <th>symbol</th>\n",
       "      <th>date</th>\n",
       "      <th>close</th>\n",
       "      <th>high</th>\n",
       "      <th>low</th>\n",
       "      <th>open</th>\n",
       "      <th>volume</th>\n",
       "      <th>adjClose</th>\n",
       "      <th>adjHigh</th>\n",
       "      <th>adjLow</th>\n",
       "      <th>adjOpen</th>\n",
       "      <th>adjVolume</th>\n",
       "      <th>divCash</th>\n",
       "      <th>splitFactor</th>\n",
       "    </tr>\n",
       "  </thead>\n",
       "  <tbody>\n",
       "    <tr>\n",
       "      <th>0</th>\n",
       "      <td>0</td>\n",
       "      <td>AAPL</td>\n",
       "      <td>2015-05-27 00:00:00+00:00</td>\n",
       "      <td>132.045</td>\n",
       "      <td>132.260</td>\n",
       "      <td>130.05</td>\n",
       "      <td>130.34</td>\n",
       "      <td>45833246</td>\n",
       "      <td>121.682558</td>\n",
       "      <td>121.880685</td>\n",
       "      <td>119.844118</td>\n",
       "      <td>120.111360</td>\n",
       "      <td>45833246</td>\n",
       "      <td>0.0</td>\n",
       "      <td>1.0</td>\n",
       "    </tr>\n",
       "    <tr>\n",
       "      <th>1</th>\n",
       "      <td>1</td>\n",
       "      <td>AAPL</td>\n",
       "      <td>2015-05-28 00:00:00+00:00</td>\n",
       "      <td>131.780</td>\n",
       "      <td>131.950</td>\n",
       "      <td>131.10</td>\n",
       "      <td>131.86</td>\n",
       "      <td>30733309</td>\n",
       "      <td>121.438354</td>\n",
       "      <td>121.595013</td>\n",
       "      <td>120.811718</td>\n",
       "      <td>121.512076</td>\n",
       "      <td>30733309</td>\n",
       "      <td>0.0</td>\n",
       "      <td>1.0</td>\n",
       "    </tr>\n",
       "    <tr>\n",
       "      <th>2</th>\n",
       "      <td>2</td>\n",
       "      <td>AAPL</td>\n",
       "      <td>2015-05-29 00:00:00+00:00</td>\n",
       "      <td>130.280</td>\n",
       "      <td>131.450</td>\n",
       "      <td>129.90</td>\n",
       "      <td>131.23</td>\n",
       "      <td>50884452</td>\n",
       "      <td>120.056069</td>\n",
       "      <td>121.134251</td>\n",
       "      <td>119.705890</td>\n",
       "      <td>120.931516</td>\n",
       "      <td>50884452</td>\n",
       "      <td>0.0</td>\n",
       "      <td>1.0</td>\n",
       "    </tr>\n",
       "    <tr>\n",
       "      <th>3</th>\n",
       "      <td>3</td>\n",
       "      <td>AAPL</td>\n",
       "      <td>2015-06-01 00:00:00+00:00</td>\n",
       "      <td>130.535</td>\n",
       "      <td>131.390</td>\n",
       "      <td>130.05</td>\n",
       "      <td>131.20</td>\n",
       "      <td>32112797</td>\n",
       "      <td>120.291057</td>\n",
       "      <td>121.078960</td>\n",
       "      <td>119.844118</td>\n",
       "      <td>120.903870</td>\n",
       "      <td>32112797</td>\n",
       "      <td>0.0</td>\n",
       "      <td>1.0</td>\n",
       "    </tr>\n",
       "    <tr>\n",
       "      <th>4</th>\n",
       "      <td>4</td>\n",
       "      <td>AAPL</td>\n",
       "      <td>2015-06-02 00:00:00+00:00</td>\n",
       "      <td>129.960</td>\n",
       "      <td>130.655</td>\n",
       "      <td>129.32</td>\n",
       "      <td>129.86</td>\n",
       "      <td>33667627</td>\n",
       "      <td>119.761181</td>\n",
       "      <td>120.401640</td>\n",
       "      <td>119.171406</td>\n",
       "      <td>119.669029</td>\n",
       "      <td>33667627</td>\n",
       "      <td>0.0</td>\n",
       "      <td>1.0</td>\n",
       "    </tr>\n",
       "  </tbody>\n",
       "</table>\n",
       "</div>"
      ],
      "text/plain": [
       "   Unnamed: 0 symbol                       date    close     high     low  \\\n",
       "0           0   AAPL  2015-05-27 00:00:00+00:00  132.045  132.260  130.05   \n",
       "1           1   AAPL  2015-05-28 00:00:00+00:00  131.780  131.950  131.10   \n",
       "2           2   AAPL  2015-05-29 00:00:00+00:00  130.280  131.450  129.90   \n",
       "3           3   AAPL  2015-06-01 00:00:00+00:00  130.535  131.390  130.05   \n",
       "4           4   AAPL  2015-06-02 00:00:00+00:00  129.960  130.655  129.32   \n",
       "\n",
       "     open    volume    adjClose     adjHigh      adjLow     adjOpen  \\\n",
       "0  130.34  45833246  121.682558  121.880685  119.844118  120.111360   \n",
       "1  131.86  30733309  121.438354  121.595013  120.811718  121.512076   \n",
       "2  131.23  50884452  120.056069  121.134251  119.705890  120.931516   \n",
       "3  131.20  32112797  120.291057  121.078960  119.844118  120.903870   \n",
       "4  129.86  33667627  119.761181  120.401640  119.171406  119.669029   \n",
       "\n",
       "   adjVolume  divCash  splitFactor  \n",
       "0   45833246      0.0          1.0  \n",
       "1   30733309      0.0          1.0  \n",
       "2   50884452      0.0          1.0  \n",
       "3   32112797      0.0          1.0  \n",
       "4   33667627      0.0          1.0  "
      ]
     },
     "execution_count": 3,
     "metadata": {},
     "output_type": "execute_result"
    }
   ],
   "source": [
    "df.head()"
   ]
  },
  {
   "cell_type": "code",
   "execution_count": 4,
   "id": "aeea77c2",
   "metadata": {},
   "outputs": [],
   "source": [
    "df1= df['close']"
   ]
  },
  {
   "cell_type": "code",
   "execution_count": 5,
   "id": "56461e11",
   "metadata": {},
   "outputs": [
    {
     "data": {
      "text/plain": [
       "0       132.045\n",
       "1       131.780\n",
       "2       130.280\n",
       "3       130.535\n",
       "4       129.960\n",
       "         ...   \n",
       "1253    314.960\n",
       "1254    313.140\n",
       "1255    319.230\n",
       "1256    316.850\n",
       "1257    318.890\n",
       "Name: close, Length: 1258, dtype: float64"
      ]
     },
     "execution_count": 5,
     "metadata": {},
     "output_type": "execute_result"
    }
   ],
   "source": [
    "df1"
   ]
  },
  {
   "cell_type": "markdown",
   "id": "d1eda4f7",
   "metadata": {},
   "source": [
    "### Data Scaling"
   ]
  },
  {
   "cell_type": "markdown",
   "id": "07105286",
   "metadata": {},
   "source": [
    "Before scaling the data we have to reshape it"
   ]
  },
  {
   "cell_type": "code",
   "execution_count": 6,
   "id": "c49e99cc",
   "metadata": {},
   "outputs": [],
   "source": [
    "df1= np.array(df1)\n",
    "df1=df1.reshape(-1,1)"
   ]
  },
  {
   "cell_type": "code",
   "execution_count": 7,
   "id": "c8133f80",
   "metadata": {},
   "outputs": [
    {
     "data": {
      "text/plain": [
       "array([[132.045],\n",
       "       [131.78 ],\n",
       "       [130.28 ],\n",
       "       ...,\n",
       "       [319.23 ],\n",
       "       [316.85 ],\n",
       "       [318.89 ]])"
      ]
     },
     "execution_count": 7,
     "metadata": {},
     "output_type": "execute_result"
    }
   ],
   "source": [
    "df1.reshape(-1, 1)"
   ]
  },
  {
   "cell_type": "code",
   "execution_count": 8,
   "id": "06d49875",
   "metadata": {},
   "outputs": [],
   "source": [
    "from sklearn.preprocessing import MinMaxScaler\n",
    "scaler=MinMaxScaler(feature_range=(0,1))\n",
    "df1=scaler.fit_transform(df1)"
   ]
  },
  {
   "cell_type": "code",
   "execution_count": 9,
   "id": "10b56dcf",
   "metadata": {},
   "outputs": [
    {
     "name": "stdout",
     "output_type": "stream",
     "text": [
      "[[0.17607447]\n",
      " [0.17495567]\n",
      " [0.16862282]\n",
      " ...\n",
      " [0.96635143]\n",
      " [0.9563033 ]\n",
      " [0.96491598]]\n"
     ]
    }
   ],
   "source": [
    "print(df1)"
   ]
  },
  {
   "cell_type": "markdown",
   "id": "bfab714f",
   "metadata": {},
   "source": [
    "### Splitting Data into Test & Train"
   ]
  },
  {
   "cell_type": "code",
   "execution_count": 10,
   "id": "1f825f6a",
   "metadata": {},
   "outputs": [
    {
     "data": {
      "text/plain": [
       "(1258, 1)"
      ]
     },
     "execution_count": 10,
     "metadata": {},
     "output_type": "execute_result"
    }
   ],
   "source": [
    "df1.shape"
   ]
  },
  {
   "cell_type": "markdown",
   "id": "e4081da2",
   "metadata": {},
   "source": [
    "spliting 65 percent data for training with sequence"
   ]
  },
  {
   "cell_type": "code",
   "execution_count": 11,
   "id": "dd234cad",
   "metadata": {},
   "outputs": [],
   "source": [
    "##splitting dataset into train and test split\n",
    "training_size=int(len(df1)*0.65)\n",
    "test_size=len(df1)-training_size\n",
    "train_data,test_data=df1[0:training_size,:],df1[training_size:len(df1),:1]"
   ]
  },
  {
   "cell_type": "code",
   "execution_count": 12,
   "id": "dd7f9ae4",
   "metadata": {},
   "outputs": [
    {
     "data": {
      "text/plain": [
       "(817, 1)"
      ]
     },
     "execution_count": 12,
     "metadata": {},
     "output_type": "execute_result"
    }
   ],
   "source": [
    "train_data.shape"
   ]
  },
  {
   "cell_type": "code",
   "execution_count": 13,
   "id": "2707ba85",
   "metadata": {},
   "outputs": [
    {
     "data": {
      "text/plain": [
       "(441, 1)"
      ]
     },
     "execution_count": 13,
     "metadata": {},
     "output_type": "execute_result"
    }
   ],
   "source": [
    "test_data.shape"
   ]
  },
  {
   "cell_type": "code",
   "execution_count": 14,
   "id": "6fd27078",
   "metadata": {},
   "outputs": [
    {
     "data": {
      "text/plain": [
       "(817, 441)"
      ]
     },
     "execution_count": 14,
     "metadata": {},
     "output_type": "execute_result"
    }
   ],
   "source": [
    "training_size, test_size"
   ]
  },
  {
   "cell_type": "code",
   "execution_count": 15,
   "id": "59c86cce",
   "metadata": {},
   "outputs": [
    {
     "data": {
      "text/plain": [
       "array([[0.17607447],\n",
       "       [0.17495567],\n",
       "       [0.16862282],\n",
       "       [0.1696994 ],\n",
       "       [0.16727181],\n",
       "       [0.16794731],\n",
       "       [0.16473866],\n",
       "       [0.16174111],\n",
       "       [0.1581525 ],\n",
       "       [0.15654817]])"
      ]
     },
     "execution_count": 15,
     "metadata": {},
     "output_type": "execute_result"
    }
   ],
   "source": [
    "train_data[:10]"
   ]
  },
  {
   "cell_type": "markdown",
   "id": "26c92945",
   "metadata": {},
   "source": [
    "### Convert Array of Matrix -> Dataset Matrix"
   ]
  },
  {
   "cell_type": "code",
   "execution_count": 16,
   "id": "f69c512a",
   "metadata": {},
   "outputs": [],
   "source": [
    "import numpy"
   ]
  },
  {
   "cell_type": "code",
   "execution_count": 17,
   "id": "46114ea8",
   "metadata": {},
   "outputs": [],
   "source": [
    "def create_dataset(dataset, time_step=1):\n",
    "    dataX, dataY = [], []\n",
    "    for i in range(len(dataset)-time_step-1):\n",
    "        a= dataset[i:(i+time_step), 0]\n",
    "        dataX.append(a)\n",
    "        dataY.append(dataset[i+ time_step, 0])\n",
    "    return numpy.array(dataX), numpy.array(dataY)"
   ]
  },
  {
   "cell_type": "code",
   "execution_count": 18,
   "id": "3cf02aba",
   "metadata": {},
   "outputs": [],
   "source": [
    "time_step =100\n",
    "X_train, y_train = create_dataset(train_data, time_step)\n",
    "X_test, y_test = create_dataset(test_data, time_step)"
   ]
  },
  {
   "cell_type": "code",
   "execution_count": 19,
   "id": "d926ae5d",
   "metadata": {},
   "outputs": [
    {
     "data": {
      "text/plain": [
       "(340, 100)"
      ]
     },
     "execution_count": 19,
     "metadata": {},
     "output_type": "execute_result"
    }
   ],
   "source": [
    "X_test.shape"
   ]
  },
  {
   "cell_type": "code",
   "execution_count": 20,
   "id": "9ea9cdd9",
   "metadata": {},
   "outputs": [
    {
     "name": "stdout",
     "output_type": "stream",
     "text": [
      "(716, 100)\n",
      "(716,)\n"
     ]
    },
    {
     "data": {
      "text/plain": [
       "(None, None)"
      ]
     },
     "execution_count": 20,
     "metadata": {},
     "output_type": "execute_result"
    }
   ],
   "source": [
    "print(X_train.shape), print(y_train.shape)"
   ]
  },
  {
   "cell_type": "markdown",
   "id": "dd1e183d",
   "metadata": {},
   "source": [
    "## Model Building"
   ]
  },
  {
   "cell_type": "code",
   "execution_count": 21,
   "id": "8ae919b3",
   "metadata": {},
   "outputs": [],
   "source": [
    "from sklearn.linear_model import LinearRegression"
   ]
  },
  {
   "cell_type": "code",
   "execution_count": 22,
   "id": "7f1288e4",
   "metadata": {},
   "outputs": [
    {
     "data": {
      "text/html": [
       "<style>#sk-container-id-1 {color: black;background-color: white;}#sk-container-id-1 pre{padding: 0;}#sk-container-id-1 div.sk-toggleable {background-color: white;}#sk-container-id-1 label.sk-toggleable__label {cursor: pointer;display: block;width: 100%;margin-bottom: 0;padding: 0.3em;box-sizing: border-box;text-align: center;}#sk-container-id-1 label.sk-toggleable__label-arrow:before {content: \"▸\";float: left;margin-right: 0.25em;color: #696969;}#sk-container-id-1 label.sk-toggleable__label-arrow:hover:before {color: black;}#sk-container-id-1 div.sk-estimator:hover label.sk-toggleable__label-arrow:before {color: black;}#sk-container-id-1 div.sk-toggleable__content {max-height: 0;max-width: 0;overflow: hidden;text-align: left;background-color: #f0f8ff;}#sk-container-id-1 div.sk-toggleable__content pre {margin: 0.2em;color: black;border-radius: 0.25em;background-color: #f0f8ff;}#sk-container-id-1 input.sk-toggleable__control:checked~div.sk-toggleable__content {max-height: 200px;max-width: 100%;overflow: auto;}#sk-container-id-1 input.sk-toggleable__control:checked~label.sk-toggleable__label-arrow:before {content: \"▾\";}#sk-container-id-1 div.sk-estimator input.sk-toggleable__control:checked~label.sk-toggleable__label {background-color: #d4ebff;}#sk-container-id-1 div.sk-label input.sk-toggleable__control:checked~label.sk-toggleable__label {background-color: #d4ebff;}#sk-container-id-1 input.sk-hidden--visually {border: 0;clip: rect(1px 1px 1px 1px);clip: rect(1px, 1px, 1px, 1px);height: 1px;margin: -1px;overflow: hidden;padding: 0;position: absolute;width: 1px;}#sk-container-id-1 div.sk-estimator {font-family: monospace;background-color: #f0f8ff;border: 1px dotted black;border-radius: 0.25em;box-sizing: border-box;margin-bottom: 0.5em;}#sk-container-id-1 div.sk-estimator:hover {background-color: #d4ebff;}#sk-container-id-1 div.sk-parallel-item::after {content: \"\";width: 100%;border-bottom: 1px solid gray;flex-grow: 1;}#sk-container-id-1 div.sk-label:hover label.sk-toggleable__label {background-color: #d4ebff;}#sk-container-id-1 div.sk-serial::before {content: \"\";position: absolute;border-left: 1px solid gray;box-sizing: border-box;top: 0;bottom: 0;left: 50%;z-index: 0;}#sk-container-id-1 div.sk-serial {display: flex;flex-direction: column;align-items: center;background-color: white;padding-right: 0.2em;padding-left: 0.2em;position: relative;}#sk-container-id-1 div.sk-item {position: relative;z-index: 1;}#sk-container-id-1 div.sk-parallel {display: flex;align-items: stretch;justify-content: center;background-color: white;position: relative;}#sk-container-id-1 div.sk-item::before, #sk-container-id-1 div.sk-parallel-item::before {content: \"\";position: absolute;border-left: 1px solid gray;box-sizing: border-box;top: 0;bottom: 0;left: 50%;z-index: -1;}#sk-container-id-1 div.sk-parallel-item {display: flex;flex-direction: column;z-index: 1;position: relative;background-color: white;}#sk-container-id-1 div.sk-parallel-item:first-child::after {align-self: flex-end;width: 50%;}#sk-container-id-1 div.sk-parallel-item:last-child::after {align-self: flex-start;width: 50%;}#sk-container-id-1 div.sk-parallel-item:only-child::after {width: 0;}#sk-container-id-1 div.sk-dashed-wrapped {border: 1px dashed gray;margin: 0 0.4em 0.5em 0.4em;box-sizing: border-box;padding-bottom: 0.4em;background-color: white;}#sk-container-id-1 div.sk-label label {font-family: monospace;font-weight: bold;display: inline-block;line-height: 1.2em;}#sk-container-id-1 div.sk-label-container {text-align: center;}#sk-container-id-1 div.sk-container {/* jupyter's `normalize.less` sets `[hidden] { display: none; }` but bootstrap.min.css set `[hidden] { display: none !important; }` so we also need the `!important` here to be able to override the default hidden behavior on the sphinx rendered scikit-learn.org. See: https://github.com/scikit-learn/scikit-learn/issues/21755 */display: inline-block !important;position: relative;}#sk-container-id-1 div.sk-text-repr-fallback {display: none;}</style><div id=\"sk-container-id-1\" class=\"sk-top-container\"><div class=\"sk-text-repr-fallback\"><pre>LinearRegression()</pre><b>In a Jupyter environment, please rerun this cell to show the HTML representation or trust the notebook. <br />On GitHub, the HTML representation is unable to render, please try loading this page with nbviewer.org.</b></div><div class=\"sk-container\" hidden><div class=\"sk-item\"><div class=\"sk-estimator sk-toggleable\"><input class=\"sk-toggleable__control sk-hidden--visually\" id=\"sk-estimator-id-1\" type=\"checkbox\" checked><label for=\"sk-estimator-id-1\" class=\"sk-toggleable__label sk-toggleable__label-arrow\">LinearRegression</label><div class=\"sk-toggleable__content\"><pre>LinearRegression()</pre></div></div></div></div></div>"
      ],
      "text/plain": [
       "LinearRegression()"
      ]
     },
     "execution_count": 22,
     "metadata": {},
     "output_type": "execute_result"
    }
   ],
   "source": [
    "model = LinearRegression()\n",
    "model.fit(X_train, y_train)"
   ]
  },
  {
   "cell_type": "markdown",
   "id": "8d1c60a9",
   "metadata": {},
   "source": [
    "### Predictions and Model Evaluation"
   ]
  },
  {
   "cell_type": "code",
   "execution_count": 23,
   "id": "ec267d20",
   "metadata": {},
   "outputs": [],
   "source": [
    "predictions= model.predict(X_test)"
   ]
  },
  {
   "cell_type": "code",
   "execution_count": 24,
   "id": "a2243697",
   "metadata": {},
   "outputs": [
    {
     "name": "stdout",
     "output_type": "stream",
     "text": [
      "Predicted Value 0.2659124126209654\n",
      "Expected Value 0.2727349489149709\n"
     ]
    }
   ],
   "source": [
    "print(\"Predicted Value\",predictions[:10][0])\n",
    "print(\"Expected Value\",y_test[:10][0])"
   ]
  },
  {
   "cell_type": "code",
   "execution_count": 25,
   "id": "df5bdb34",
   "metadata": {},
   "outputs": [],
   "source": [
    "pred_df= pd.DataFrame(predictions)"
   ]
  },
  {
   "cell_type": "code",
   "execution_count": 26,
   "id": "7b8f89fa",
   "metadata": {},
   "outputs": [],
   "source": [
    "pred_df['TrueValues']=y_test\n",
    "# pred_df.head()"
   ]
  },
  {
   "cell_type": "code",
   "execution_count": 27,
   "id": "751c5821",
   "metadata": {},
   "outputs": [],
   "source": [
    "new_pred_df=pred_df.rename(columns={0: 'Predictions'})"
   ]
  },
  {
   "cell_type": "code",
   "execution_count": 28,
   "id": "ae15970a",
   "metadata": {},
   "outputs": [
    {
     "data": {
      "text/html": [
       "<div>\n",
       "<style scoped>\n",
       "    .dataframe tbody tr th:only-of-type {\n",
       "        vertical-align: middle;\n",
       "    }\n",
       "\n",
       "    .dataframe tbody tr th {\n",
       "        vertical-align: top;\n",
       "    }\n",
       "\n",
       "    .dataframe thead th {\n",
       "        text-align: right;\n",
       "    }\n",
       "</style>\n",
       "<table border=\"1\" class=\"dataframe\">\n",
       "  <thead>\n",
       "    <tr style=\"text-align: right;\">\n",
       "      <th></th>\n",
       "      <th>Predictions</th>\n",
       "      <th>TrueValues</th>\n",
       "    </tr>\n",
       "  </thead>\n",
       "  <tbody>\n",
       "    <tr>\n",
       "      <th>0</th>\n",
       "      <td>0.265912</td>\n",
       "      <td>0.272735</td>\n",
       "    </tr>\n",
       "    <tr>\n",
       "      <th>1</th>\n",
       "      <td>0.267869</td>\n",
       "      <td>0.276619</td>\n",
       "    </tr>\n",
       "    <tr>\n",
       "      <th>2</th>\n",
       "      <td>0.289373</td>\n",
       "      <td>0.280672</td>\n",
       "    </tr>\n",
       "    <tr>\n",
       "      <th>3</th>\n",
       "      <td>0.286837</td>\n",
       "      <td>0.265811</td>\n",
       "    </tr>\n",
       "    <tr>\n",
       "      <th>4</th>\n",
       "      <td>0.264365</td>\n",
       "      <td>0.268429</td>\n",
       "    </tr>\n",
       "  </tbody>\n",
       "</table>\n",
       "</div>"
      ],
      "text/plain": [
       "   Predictions  TrueValues\n",
       "0     0.265912    0.272735\n",
       "1     0.267869    0.276619\n",
       "2     0.289373    0.280672\n",
       "3     0.286837    0.265811\n",
       "4     0.264365    0.268429"
      ]
     },
     "execution_count": 28,
     "metadata": {},
     "output_type": "execute_result"
    }
   ],
   "source": [
    "new_pred_df.head()"
   ]
  },
  {
   "cell_type": "code",
   "execution_count": 31,
   "id": "a274590c",
   "metadata": {},
   "outputs": [],
   "source": [
    "import seaborn as sns\n",
    "import matplotlib.pyplot as plt"
   ]
  },
  {
   "cell_type": "code",
   "execution_count": 32,
   "id": "b4d5e58e",
   "metadata": {},
   "outputs": [
    {
     "data": {
      "text/plain": [
       "Text(0.5, 1.0, 'Predictions Vs True Values on Testing Set')"
      ]
     },
     "execution_count": 32,
     "metadata": {},
     "output_type": "execute_result"
    },
    {
     "data": {
      "image/png": "[encoded data removed]",
      "text/plain": [
       "<Figure size 1200x800 with 1 Axes>"
      ]
     },
     "metadata": {},
     "output_type": "display_data"
    }
   ],
   "source": [
    "plt.figure(figsize=(12,8))\n",
    "sns.lineplot(data=new_pred_df)\n",
    "plt.title(\"Predictions Vs True Values on Testing Set\")"
   ]
  },
  {
   "cell_type": "code",
   "execution_count": 33,
   "id": "a4b8d5e3",
   "metadata": {},
   "outputs": [
    {
     "name": "stdout",
     "output_type": "stream",
     "text": [
      "Model Accuracy is on training data: 0.9970342320018716\n"
     ]
    }
   ],
   "source": [
    "print(\"Model Accuracy is on training data:\",model.score(X_train, y_train))"
   ]
  },
  {
   "cell_type": "code",
   "execution_count": 34,
   "id": "59a5caa7",
   "metadata": {},
   "outputs": [
    {
     "name": "stdout",
     "output_type": "stream",
     "text": [
      "0.9847722212152704\n"
     ]
    }
   ],
   "source": [
    "#on Testing data\n",
    "print(model.score(X_test, y_test))"
   ]
  },
  {
   "cell_type": "code",
   "execution_count": 35,
   "id": "545d154d",
   "metadata": {},
   "outputs": [
    {
     "data": {
      "text/plain": [
       "0.0903065101747868"
      ]
     },
     "execution_count": 35,
     "metadata": {},
     "output_type": "execute_result"
    }
   ],
   "source": [
    "X_train[2][-1]"
   ]
  },
  {
   "cell_type": "code",
   "execution_count": 36,
   "id": "f381b6cf",
   "metadata": {},
   "outputs": [
    {
     "data": {
      "text/plain": [
       "0.0903065101747868"
      ]
     },
     "execution_count": 36,
     "metadata": {},
     "output_type": "execute_result"
    }
   ],
   "source": [
    "y_train[1]"
   ]
  },
  {
   "cell_type": "markdown",
   "id": "9d899914",
   "metadata": {},
   "source": [
    "## Predictions & Performance Metrics"
   ]
  },
  {
   "cell_type": "code",
   "execution_count": 37,
   "id": "075f6cd3",
   "metadata": {},
   "outputs": [],
   "source": [
    "train_predict=model.predict(X_train)\n",
    "test_predict=model.predict(X_test)\n",
    "train_predict=train_predict.reshape(-1, 1)\n",
    "test_predict=test_predict.reshape(-1, 1)\n",
    "\n",
    "#Transformback to original form\n",
    "train_predict=scaler.inverse_transform(train_predict)\n",
    "test_predict=scaler.inverse_transform(test_predict)"
   ]
  },
  {
   "cell_type": "code",
   "execution_count": 38,
   "id": "1a901f13",
   "metadata": {},
   "outputs": [
    {
     "data": {
      "text/plain": [
       "142.1363100026703"
      ]
     },
     "execution_count": 38,
     "metadata": {},
     "output_type": "execute_result"
    }
   ],
   "source": [
    "### Calculate RMSE performance metrics\n",
    "import math\n",
    "from sklearn.metrics import mean_squared_error\n",
    "math.sqrt(mean_squared_error(y_train,train_predict))"
   ]
  },
  {
   "cell_type": "code",
   "execution_count": 39,
   "id": "5f4390d1",
   "metadata": {},
   "outputs": [
    {
     "data": {
      "text/plain": [
       "238.13157949250504"
      ]
     },
     "execution_count": 39,
     "metadata": {},
     "output_type": "execute_result"
    }
   ],
   "source": [
    "### Test Data RMSE\n",
    "math.sqrt(mean_squared_error(y_test,test_predict))"
   ]
  },
  {
   "cell_type": "code",
   "execution_count": 40,
   "id": "b9e09c9b",
   "metadata": {},
   "outputs": [
    {
     "data": {
      "image/png": "[encoded data removed]",
      "text/plain": [
       "<Figure size 640x480 with 1 Axes>"
      ]
     },
     "metadata": {},
     "output_type": "display_data"
    }
   ],
   "source": [
    "### Plotting \n",
    "# shift train predictions for plotting\n",
    "look_back=100\n",
    "trainPredictPlot = numpy.empty_like(df1)\n",
    "trainPredictPlot[:, :] = np.nan\n",
    "trainPredictPlot[look_back:len(train_predict)+look_back, :] = train_predict\n",
    "# shift test predictions for plotting\n",
    "testPredictPlot = numpy.empty_like(df1)\n",
    "testPredictPlot[:, :] = numpy.nan\n",
    "testPredictPlot[len(train_predict)+(look_back*2)+1:len(df1)-1, :] = test_predict\n",
    "# plot baseline and predictions\n",
    "plt.plot(scaler.inverse_transform(df1))\n",
    "plt.plot(trainPredictPlot)\n",
    "plt.plot(testPredictPlot)\n",
    "plt.show()"
   ]
  },
  {
   "cell_type": "markdown",
   "id": "6eca0887",
   "metadata": {},
   "source": [
    "### Prediction for Next 10 days"
   ]
  },
  {
   "cell_type": "code",
   "execution_count": 41,
   "id": "32e9188d",
   "metadata": {},
   "outputs": [
    {
     "data": {
      "text/plain": [
       "441"
      ]
     },
     "execution_count": 41,
     "metadata": {},
     "output_type": "execute_result"
    }
   ],
   "source": [
    "len(test_data)"
   ]
  },
  {
   "cell_type": "code",
   "execution_count": 42,
   "id": "bbd0d68f",
   "metadata": {},
   "outputs": [
    {
     "data": {
      "text/plain": [
       "(100, 1)"
      ]
     },
     "execution_count": 42,
     "metadata": {},
     "output_type": "execute_result"
    }
   ],
   "source": [
    "x_input = test_data[341:]\n",
    "x_input.shape"
   ]
  },
  {
   "cell_type": "code",
   "execution_count": 43,
   "id": "da3d2e63",
   "metadata": {},
   "outputs": [
    {
     "data": {
      "text/plain": [
       "(1, 100)"
      ]
     },
     "execution_count": 43,
     "metadata": {},
     "output_type": "execute_result"
    }
   ],
   "source": [
    "x_input=x_input.reshape(1,-1)\n",
    "x_input.shape"
   ]
  },
  {
   "cell_type": "code",
   "execution_count": 44,
   "id": "118513c2",
   "metadata": {},
   "outputs": [],
   "source": [
    "temp_input = list(x_input)\n",
    "temp_input= temp_input[0].tolist()"
   ]
  },
  {
   "cell_type": "code",
   "execution_count": 45,
   "id": "cb2f0d33",
   "metadata": {},
   "outputs": [
    {
     "data": {
      "text/plain": [
       "100"
      ]
     },
     "execution_count": 45,
     "metadata": {},
     "output_type": "execute_result"
    }
   ],
   "source": [
    "len(temp_input)"
   ]
  },
  {
   "cell_type": "code",
   "execution_count": 46,
   "id": "b2d49c4a",
   "metadata": {},
   "outputs": [],
   "source": [
    "yhat= model.predict(x_input)"
   ]
  },
  {
   "cell_type": "code",
   "execution_count": 47,
   "id": "f392b3aa",
   "metadata": {},
   "outputs": [],
   "source": [
    "temp_input.extend([yhat[0].tolist()])\n",
    "# temp_input=temp_input[1:]"
   ]
  },
  {
   "cell_type": "code",
   "execution_count": 48,
   "id": "a2c2e1e6",
   "metadata": {},
   "outputs": [],
   "source": [
    "lst_output=[]"
   ]
  },
  {
   "cell_type": "code",
   "execution_count": 49,
   "id": "652b2eae",
   "metadata": {},
   "outputs": [],
   "source": [
    "lst_output.extend([yhat.tolist()])"
   ]
  },
  {
   "cell_type": "code",
   "execution_count": 50,
   "id": "56662b46",
   "metadata": {},
   "outputs": [
    {
     "data": {
      "text/plain": [
       "[[0.9820245634844119]]"
      ]
     },
     "execution_count": 50,
     "metadata": {},
     "output_type": "execute_result"
    }
   ],
   "source": [
    "lst_output"
   ]
  },
  {
   "cell_type": "code",
   "execution_count": 51,
   "id": "93f72c79",
   "metadata": {},
   "outputs": [],
   "source": [
    "x_input = np.array(temp_input[1:])"
   ]
  },
  {
   "cell_type": "code",
   "execution_count": 52,
   "id": "bd6c276f",
   "metadata": {},
   "outputs": [],
   "source": [
    "x_input=x_input.reshape(x_input.shape[0], -1)"
   ]
  },
  {
   "cell_type": "code",
   "execution_count": 53,
   "id": "0da891f8",
   "metadata": {},
   "outputs": [],
   "source": [
    "x_input=x_input.reshape(1,-1)"
   ]
  },
  {
   "cell_type": "code",
   "execution_count": 54,
   "id": "9f53a7fa",
   "metadata": {},
   "outputs": [
    {
     "data": {
      "text/plain": [
       "(1, 100)"
      ]
     },
     "execution_count": 54,
     "metadata": {},
     "output_type": "execute_result"
    }
   ],
   "source": [
    "x_input.shape"
   ]
  },
  {
   "cell_type": "code",
   "execution_count": 55,
   "id": "dec73ca8",
   "metadata": {},
   "outputs": [],
   "source": [
    "yhat = model.predict(x_input)"
   ]
  },
  {
   "cell_type": "code",
   "execution_count": 56,
   "id": "6700b772",
   "metadata": {},
   "outputs": [
    {
     "data": {
      "text/plain": [
       "array([0.97188536])"
      ]
     },
     "execution_count": 56,
     "metadata": {},
     "output_type": "execute_result"
    }
   ],
   "source": [
    "yhat"
   ]
  },
  {
   "cell_type": "markdown",
   "id": "0f2e4b2e",
   "metadata": {},
   "source": [
    "#### Display 10 Day Prediction"
   ]
  },
  {
   "cell_type": "code",
   "execution_count": 62,
   "id": "c747e249",
   "metadata": {},
   "outputs": [
    {
     "name": "stdout",
     "output_type": "stream",
     "text": [
      "0 day input: [[0.93333615 0.91746179 0.92544119 0.91771511 0.9483239  0.94064004\n",
      "  0.96635143 0.9563033  0.96491598 0.98202456 0.97188536 0.97209897\n",
      "  0.95857035 0.97054873 0.95994414 0.98049691 0.98294279 0.96385792\n",
      "  0.97158516 0.96467027 0.97701736 0.95609124 0.95971168 0.94564823\n",
      "  0.94763488 0.95855879 0.9672527  0.9681693  0.99251774 0.97246167\n",
      "  0.97463433 0.97299241 0.96940152 0.97203379 0.98159373 0.96572438\n",
      "  0.95494976 0.9732422  0.95056484 0.95427143 0.95674533 0.93970429\n",
      "  0.94264386 0.95989025 0.96218651 0.96999177 0.98030124 0.97766009\n",
      "  0.95871925 0.97253035 0.98095421 0.98033158 0.9734574  0.99125436\n",
      "  0.97604183 0.99072203 1.00579882 0.99865513 1.02111152 1.0036367\n",
      "  1.0082606  1.00902252 1.01570838 1.01038408 1.01083631 1.00991329\n",
      "  1.01644472 1.03505774 1.02977235 1.0429112  1.04935428 1.05102181\n",
      "  1.06136467 1.06203764 1.06930609 1.07410588 1.07450293 1.06983904\n",
      "  1.06886642 1.08113821 1.07422226 1.07574484 1.08719337 1.08928019\n",
      "  1.08881528 1.10004013 1.10487387 1.10612209 1.10814665 1.11071669\n",
      "  1.11115936 1.1176036  1.11943819 1.11986805 1.11945275 1.12123346\n",
      "  1.12785228 1.12662584 1.13088033 1.12894691]]\n",
      "0 day output: [1.13309915]\n",
      "1 day input: [[0.91746179 0.92544119 0.91771511 0.9483239  0.94064004 0.96635143\n",
      "  0.9563033  0.96491598 0.98202456 0.97188536 0.97209897 0.95857035\n",
      "  0.97054873 0.95994414 0.98049691 0.98294279 0.96385792 0.97158516\n",
      "  0.96467027 0.97701736 0.95609124 0.95971168 0.94564823 0.94763488\n",
      "  0.95855879 0.9672527  0.9681693  0.99251774 0.97246167 0.97463433\n",
      "  0.97299241 0.96940152 0.97203379 0.98159373 0.96572438 0.95494976\n",
      "  0.9732422  0.95056484 0.95427143 0.95674533 0.93970429 0.94264386\n",
      "  0.95989025 0.96218651 0.96999177 0.98030124 0.97766009 0.95871925\n",
      "  0.97253035 0.98095421 0.98033158 0.9734574  0.99125436 0.97604183\n",
      "  0.99072203 1.00579882 0.99865513 1.02111152 1.0036367  1.0082606\n",
      "  1.00902252 1.01570838 1.01038408 1.01083631 1.00991329 1.01644472\n",
      "  1.03505774 1.02977235 1.0429112  1.04935428 1.05102181 1.06136467\n",
      "  1.06203764 1.06930609 1.07410588 1.07450293 1.06983904 1.06886642\n",
      "  1.08113821 1.07422226 1.07574484 1.08719337 1.08928019 1.08881528\n",
      "  1.10004013 1.10487387 1.10612209 1.10814665 1.11071669 1.11115936\n",
      "  1.1176036  1.11943819 1.11986805 1.11945275 1.12123346 1.12785228\n",
      "  1.12662584 1.13088033 1.12894691 1.13309915]]\n",
      "1 day output: [1.13170851]\n",
      "2 day input: [[0.92544119 0.91771511 0.9483239  0.94064004 0.96635143 0.9563033\n",
      "  0.96491598 0.98202456 0.97188536 0.97209897 0.95857035 0.97054873\n",
      "  0.95994414 0.98049691 0.98294279 0.96385792 0.97158516 0.96467027\n",
      "  0.97701736 0.95609124 0.95971168 0.94564823 0.94763488 0.95855879\n",
      "  0.9672527  0.9681693  0.99251774 0.97246167 0.97463433 0.97299241\n",
      "  0.96940152 0.97203379 0.98159373 0.96572438 0.95494976 0.9732422\n",
      "  0.95056484 0.95427143 0.95674533 0.93970429 0.94264386 0.95989025\n",
      "  0.96218651 0.96999177 0.98030124 0.97766009 0.95871925 0.97253035\n",
      "  0.98095421 0.98033158 0.9734574  0.99125436 0.97604183 0.99072203\n",
      "  1.00579882 0.99865513 1.02111152 1.0036367  1.0082606  1.00902252\n",
      "  1.01570838 1.01038408 1.01083631 1.00991329 1.01644472 1.03505774\n",
      "  1.02977235 1.0429112  1.04935428 1.05102181 1.06136467 1.06203764\n",
      "  1.06930609 1.07410588 1.07450293 1.06983904 1.06886642 1.08113821\n",
      "  1.07422226 1.07574484 1.08719337 1.08928019 1.08881528 1.10004013\n",
      "  1.10487387 1.10612209 1.10814665 1.11071669 1.11115936 1.1176036\n",
      "  1.11943819 1.11986805 1.11945275 1.12123346 1.12785228 1.12662584\n",
      "  1.13088033 1.12894691 1.13309915 1.13170851]]\n",
      "2 day output: [1.13645593]\n",
      "3 day input: [[0.91771511 0.9483239  0.94064004 0.96635143 0.9563033  0.96491598\n",
      "  0.98202456 0.97188536 0.97209897 0.95857035 0.97054873 0.95994414\n",
      "  0.98049691 0.98294279 0.96385792 0.97158516 0.96467027 0.97701736\n",
      "  0.95609124 0.95971168 0.94564823 0.94763488 0.95855879 0.9672527\n",
      "  0.9681693  0.99251774 0.97246167 0.97463433 0.97299241 0.96940152\n",
      "  0.97203379 0.98159373 0.96572438 0.95494976 0.9732422  0.95056484\n",
      "  0.95427143 0.95674533 0.93970429 0.94264386 0.95989025 0.96218651\n",
      "  0.96999177 0.98030124 0.97766009 0.95871925 0.97253035 0.98095421\n",
      "  0.98033158 0.9734574  0.99125436 0.97604183 0.99072203 1.00579882\n",
      "  0.99865513 1.02111152 1.0036367  1.0082606  1.00902252 1.01570838\n",
      "  1.01038408 1.01083631 1.00991329 1.01644472 1.03505774 1.02977235\n",
      "  1.0429112  1.04935428 1.05102181 1.06136467 1.06203764 1.06930609\n",
      "  1.07410588 1.07450293 1.06983904 1.06886642 1.08113821 1.07422226\n",
      "  1.07574484 1.08719337 1.08928019 1.08881528 1.10004013 1.10487387\n",
      "  1.10612209 1.10814665 1.11071669 1.11115936 1.1176036  1.11943819\n",
      "  1.11986805 1.11945275 1.12123346 1.12785228 1.12662584 1.13088033\n",
      "  1.12894691 1.13309915 1.13170851 1.13645593]]\n",
      "3 day output: [1.14654974]\n",
      "4 day input: [[0.9483239  0.94064004 0.96635143 0.9563033  0.96491598 0.98202456\n",
      "  0.97188536 0.97209897 0.95857035 0.97054873 0.95994414 0.98049691\n",
      "  0.98294279 0.96385792 0.97158516 0.96467027 0.97701736 0.95609124\n",
      "  0.95971168 0.94564823 0.94763488 0.95855879 0.9672527  0.9681693\n",
      "  0.99251774 0.97246167 0.97463433 0.97299241 0.96940152 0.97203379\n",
      "  0.98159373 0.96572438 0.95494976 0.9732422  0.95056484 0.95427143\n",
      "  0.95674533 0.93970429 0.94264386 0.95989025 0.96218651 0.96999177\n",
      "  0.98030124 0.97766009 0.95871925 0.97253035 0.98095421 0.98033158\n",
      "  0.9734574  0.99125436 0.97604183 0.99072203 1.00579882 0.99865513\n",
      "  1.02111152 1.0036367  1.0082606  1.00902252 1.01570838 1.01038408\n",
      "  1.01083631 1.00991329 1.01644472 1.03505774 1.02977235 1.0429112\n",
      "  1.04935428 1.05102181 1.06136467 1.06203764 1.06930609 1.07410588\n",
      "  1.07450293 1.06983904 1.06886642 1.08113821 1.07422226 1.07574484\n",
      "  1.08719337 1.08928019 1.08881528 1.10004013 1.10487387 1.10612209\n",
      "  1.10814665 1.11071669 1.11115936 1.1176036  1.11943819 1.11986805\n",
      "  1.11945275 1.12123346 1.12785228 1.12662584 1.13088033 1.12894691\n",
      "  1.13309915 1.13170851 1.13645593 1.14654974]]\n",
      "4 day output: [1.14634381]\n",
      "5 day input: [[0.94064004 0.96635143 0.9563033  0.96491598 0.98202456 0.97188536\n",
      "  0.97209897 0.95857035 0.97054873 0.95994414 0.98049691 0.98294279\n",
      "  0.96385792 0.97158516 0.96467027 0.97701736 0.95609124 0.95971168\n",
      "  0.94564823 0.94763488 0.95855879 0.9672527  0.9681693  0.99251774\n",
      "  0.97246167 0.97463433 0.97299241 0.96940152 0.97203379 0.98159373\n",
      "  0.96572438 0.95494976 0.9732422  0.95056484 0.95427143 0.95674533\n",
      "  0.93970429 0.94264386 0.95989025 0.96218651 0.96999177 0.98030124\n",
      "  0.97766009 0.95871925 0.97253035 0.98095421 0.98033158 0.9734574\n",
      "  0.99125436 0.97604183 0.99072203 1.00579882 0.99865513 1.02111152\n",
      "  1.0036367  1.0082606  1.00902252 1.01570838 1.01038408 1.01083631\n",
      "  1.00991329 1.01644472 1.03505774 1.02977235 1.0429112  1.04935428\n",
      "  1.05102181 1.06136467 1.06203764 1.06930609 1.07410588 1.07450293\n",
      "  1.06983904 1.06886642 1.08113821 1.07422226 1.07574484 1.08719337\n",
      "  1.08928019 1.08881528 1.10004013 1.10487387 1.10612209 1.10814665\n",
      "  1.11071669 1.11115936 1.1176036  1.11943819 1.11986805 1.11945275\n",
      "  1.12123346 1.12785228 1.12662584 1.13088033 1.12894691 1.13309915\n",
      "  1.13170851 1.13645593 1.14654974 1.14634381]]\n",
      "5 day output: [1.14768699]\n",
      "6 day input: [[0.96635143 0.9563033  0.96491598 0.98202456 0.97188536 0.97209897\n",
      "  0.95857035 0.97054873 0.95994414 0.98049691 0.98294279 0.96385792\n",
      "  0.97158516 0.96467027 0.97701736 0.95609124 0.95971168 0.94564823\n",
      "  0.94763488 0.95855879 0.9672527  0.9681693  0.99251774 0.97246167\n",
      "  0.97463433 0.97299241 0.96940152 0.97203379 0.98159373 0.96572438\n",
      "  0.95494976 0.9732422  0.95056484 0.95427143 0.95674533 0.93970429\n",
      "  0.94264386 0.95989025 0.96218651 0.96999177 0.98030124 0.97766009\n",
      "  0.95871925 0.97253035 0.98095421 0.98033158 0.9734574  0.99125436\n",
      "  0.97604183 0.99072203 1.00579882 0.99865513 1.02111152 1.0036367\n",
      "  1.0082606  1.00902252 1.01570838 1.01038408 1.01083631 1.00991329\n",
      "  1.01644472 1.03505774 1.02977235 1.0429112  1.04935428 1.05102181\n",
      "  1.06136467 1.06203764 1.06930609 1.07410588 1.07450293 1.06983904\n",
      "  1.06886642 1.08113821 1.07422226 1.07574484 1.08719337 1.08928019\n",
      "  1.08881528 1.10004013 1.10487387 1.10612209 1.10814665 1.11071669\n",
      "  1.11115936 1.1176036  1.11943819 1.11986805 1.11945275 1.12123346\n",
      "  1.12785228 1.12662584 1.13088033 1.12894691 1.13309915 1.13170851\n",
      "  1.13645593 1.14654974 1.14634381 1.14768699]]\n",
      "6 day output: [1.15192534]\n",
      "7 day input: [[0.9563033  0.96491598 0.98202456 0.97188536 0.97209897 0.95857035\n",
      "  0.97054873 0.95994414 0.98049691 0.98294279 0.96385792 0.97158516\n",
      "  0.96467027 0.97701736 0.95609124 0.95971168 0.94564823 0.94763488\n",
      "  0.95855879 0.9672527  0.9681693  0.99251774 0.97246167 0.97463433\n",
      "  0.97299241 0.96940152 0.97203379 0.98159373 0.96572438 0.95494976\n",
      "  0.9732422  0.95056484 0.95427143 0.95674533 0.93970429 0.94264386\n",
      "  0.95989025 0.96218651 0.96999177 0.98030124 0.97766009 0.95871925\n",
      "  0.97253035 0.98095421 0.98033158 0.9734574  0.99125436 0.97604183\n",
      "  0.99072203 1.00579882 0.99865513 1.02111152 1.0036367  1.0082606\n",
      "  1.00902252 1.01570838 1.01038408 1.01083631 1.00991329 1.01644472\n",
      "  1.03505774 1.02977235 1.0429112  1.04935428 1.05102181 1.06136467\n",
      "  1.06203764 1.06930609 1.07410588 1.07450293 1.06983904 1.06886642\n",
      "  1.08113821 1.07422226 1.07574484 1.08719337 1.08928019 1.08881528\n",
      "  1.10004013 1.10487387 1.10612209 1.10814665 1.11071669 1.11115936\n",
      "  1.1176036  1.11943819 1.11986805 1.11945275 1.12123346 1.12785228\n",
      "  1.12662584 1.13088033 1.12894691 1.13309915 1.13170851 1.13645593\n",
      "  1.14654974 1.14634381 1.14768699 1.15192534]]\n",
      "7 day output: [1.15037892]\n",
      "8 day input: [[0.96491598 0.98202456 0.97188536 0.97209897 0.95857035 0.97054873\n",
      "  0.95994414 0.98049691 0.98294279 0.96385792 0.97158516 0.96467027\n",
      "  0.97701736 0.95609124 0.95971168 0.94564823 0.94763488 0.95855879\n",
      "  0.9672527  0.9681693  0.99251774 0.97246167 0.97463433 0.97299241\n",
      "  0.96940152 0.97203379 0.98159373 0.96572438 0.95494976 0.9732422\n",
      "  0.95056484 0.95427143 0.95674533 0.93970429 0.94264386 0.95989025\n",
      "  0.96218651 0.96999177 0.98030124 0.97766009 0.95871925 0.97253035\n",
      "  0.98095421 0.98033158 0.9734574  0.99125436 0.97604183 0.99072203\n",
      "  1.00579882 0.99865513 1.02111152 1.0036367  1.0082606  1.00902252\n",
      "  1.01570838 1.01038408 1.01083631 1.00991329 1.01644472 1.03505774\n",
      "  1.02977235 1.0429112  1.04935428 1.05102181 1.06136467 1.06203764\n",
      "  1.06930609 1.07410588 1.07450293 1.06983904 1.06886642 1.08113821\n",
      "  1.07422226 1.07574484 1.08719337 1.08928019 1.08881528 1.10004013\n",
      "  1.10487387 1.10612209 1.10814665 1.11071669 1.11115936 1.1176036\n",
      "  1.11943819 1.11986805 1.11945275 1.12123346 1.12785228 1.12662584\n",
      "  1.13088033 1.12894691 1.13309915 1.13170851 1.13645593 1.14654974\n",
      "  1.14634381 1.14768699 1.15192534 1.15037892]]\n",
      "8 day output: [1.15527266]\n",
      "9 day input: [[0.98202456 0.97188536 0.97209897 0.95857035 0.97054873 0.95994414\n",
      "  0.98049691 0.98294279 0.96385792 0.97158516 0.96467027 0.97701736\n",
      "  0.95609124 0.95971168 0.94564823 0.94763488 0.95855879 0.9672527\n",
      "  0.9681693  0.99251774 0.97246167 0.97463433 0.97299241 0.96940152\n",
      "  0.97203379 0.98159373 0.96572438 0.95494976 0.9732422  0.95056484\n",
      "  0.95427143 0.95674533 0.93970429 0.94264386 0.95989025 0.96218651\n",
      "  0.96999177 0.98030124 0.97766009 0.95871925 0.97253035 0.98095421\n",
      "  0.98033158 0.9734574  0.99125436 0.97604183 0.99072203 1.00579882\n",
      "  0.99865513 1.02111152 1.0036367  1.0082606  1.00902252 1.01570838\n",
      "  1.01038408 1.01083631 1.00991329 1.01644472 1.03505774 1.02977235\n",
      "  1.0429112  1.04935428 1.05102181 1.06136467 1.06203764 1.06930609\n",
      "  1.07410588 1.07450293 1.06983904 1.06886642 1.08113821 1.07422226\n",
      "  1.07574484 1.08719337 1.08928019 1.08881528 1.10004013 1.10487387\n",
      "  1.10612209 1.10814665 1.11071669 1.11115936 1.1176036  1.11943819\n",
      "  1.11986805 1.11945275 1.12123346 1.12785228 1.12662584 1.13088033\n",
      "  1.12894691 1.13309915 1.13170851 1.13645593 1.14654974 1.14634381\n",
      "  1.14768699 1.15192534 1.15037892 1.15527266]]\n",
      "9 day output: [1.16202828]\n",
      "10 day input: [[0.97188536 0.97209897 0.95857035 0.97054873 0.95994414 0.98049691\n",
      "  0.98294279 0.96385792 0.97158516 0.96467027 0.97701736 0.95609124\n",
      "  0.95971168 0.94564823 0.94763488 0.95855879 0.9672527  0.9681693\n",
      "  0.99251774 0.97246167 0.97463433 0.97299241 0.96940152 0.97203379\n",
      "  0.98159373 0.96572438 0.95494976 0.9732422  0.95056484 0.95427143\n",
      "  0.95674533 0.93970429 0.94264386 0.95989025 0.96218651 0.96999177\n",
      "  0.98030124 0.97766009 0.95871925 0.97253035 0.98095421 0.98033158\n",
      "  0.9734574  0.99125436 0.97604183 0.99072203 1.00579882 0.99865513\n",
      "  1.02111152 1.0036367  1.0082606  1.00902252 1.01570838 1.01038408\n",
      "  1.01083631 1.00991329 1.01644472 1.03505774 1.02977235 1.0429112\n",
      "  1.04935428 1.05102181 1.06136467 1.06203764 1.06930609 1.07410588\n",
      "  1.07450293 1.06983904 1.06886642 1.08113821 1.07422226 1.07574484\n",
      "  1.08719337 1.08928019 1.08881528 1.10004013 1.10487387 1.10612209\n",
      "  1.10814665 1.11071669 1.11115936 1.1176036  1.11943819 1.11986805\n",
      "  1.11945275 1.12123346 1.12785228 1.12662584 1.13088033 1.12894691\n",
      "  1.13309915 1.13170851 1.13645593 1.14654974 1.14634381 1.14768699\n",
      "  1.15192534 1.15037892 1.15527266 1.16202828]]\n",
      "10 day output: [1.15952277]\n",
      "11 day input: [[0.97209897 0.95857035 0.97054873 0.95994414 0.98049691 0.98294279\n",
      "  0.96385792 0.97158516 0.96467027 0.97701736 0.95609124 0.95971168\n",
      "  0.94564823 0.94763488 0.95855879 0.9672527  0.9681693  0.99251774\n",
      "  0.97246167 0.97463433 0.97299241 0.96940152 0.97203379 0.98159373\n",
      "  0.96572438 0.95494976 0.9732422  0.95056484 0.95427143 0.95674533\n",
      "  0.93970429 0.94264386 0.95989025 0.96218651 0.96999177 0.98030124\n",
      "  0.97766009 0.95871925 0.97253035 0.98095421 0.98033158 0.9734574\n",
      "  0.99125436 0.97604183 0.99072203 1.00579882 0.99865513 1.02111152\n",
      "  1.0036367  1.0082606  1.00902252 1.01570838 1.01038408 1.01083631\n",
      "  1.00991329 1.01644472 1.03505774 1.02977235 1.0429112  1.04935428\n",
      "  1.05102181 1.06136467 1.06203764 1.06930609 1.07410588 1.07450293\n",
      "  1.06983904 1.06886642 1.08113821 1.07422226 1.07574484 1.08719337\n",
      "  1.08928019 1.08881528 1.10004013 1.10487387 1.10612209 1.10814665\n",
      "  1.11071669 1.11115936 1.1176036  1.11943819 1.11986805 1.11945275\n",
      "  1.12123346 1.12785228 1.12662584 1.13088033 1.12894691 1.13309915\n",
      "  1.13170851 1.13645593 1.14654974 1.14634381 1.14768699 1.15192534\n",
      "  1.15037892 1.15527266 1.16202828 1.15952277]]\n",
      "11 day output: [1.15668701]\n",
      "12 day input: [[0.95857035 0.97054873 0.95994414 0.98049691 0.98294279 0.96385792\n",
      "  0.97158516 0.96467027 0.97701736 0.95609124 0.95971168 0.94564823\n",
      "  0.94763488 0.95855879 0.9672527  0.9681693  0.99251774 0.97246167\n",
      "  0.97463433 0.97299241 0.96940152 0.97203379 0.98159373 0.96572438\n",
      "  0.95494976 0.9732422  0.95056484 0.95427143 0.95674533 0.93970429\n",
      "  0.94264386 0.95989025 0.96218651 0.96999177 0.98030124 0.97766009\n",
      "  0.95871925 0.97253035 0.98095421 0.98033158 0.9734574  0.99125436\n",
      "  0.97604183 0.99072203 1.00579882 0.99865513 1.02111152 1.0036367\n",
      "  1.0082606  1.00902252 1.01570838 1.01038408 1.01083631 1.00991329\n",
      "  1.01644472 1.03505774 1.02977235 1.0429112  1.04935428 1.05102181\n",
      "  1.06136467 1.06203764 1.06930609 1.07410588 1.07450293 1.06983904\n",
      "  1.06886642 1.08113821 1.07422226 1.07574484 1.08719337 1.08928019\n",
      "  1.08881528 1.10004013 1.10487387 1.10612209 1.10814665 1.11071669\n",
      "  1.11115936 1.1176036  1.11943819 1.11986805 1.11945275 1.12123346\n",
      "  1.12785228 1.12662584 1.13088033 1.12894691 1.13309915 1.13170851\n",
      "  1.13645593 1.14654974 1.14634381 1.14768699 1.15192534 1.15037892\n",
      "  1.15527266 1.16202828 1.15952277 1.15668701]]\n",
      "12 day output: [1.16480756]\n",
      "13 day input: [[0.97054873 0.95994414 0.98049691 0.98294279 0.96385792 0.97158516\n",
      "  0.96467027 0.97701736 0.95609124 0.95971168 0.94564823 0.94763488\n",
      "  0.95855879 0.9672527  0.9681693  0.99251774 0.97246167 0.97463433\n",
      "  0.97299241 0.96940152 0.97203379 0.98159373 0.96572438 0.95494976\n",
      "  0.9732422  0.95056484 0.95427143 0.95674533 0.93970429 0.94264386\n",
      "  0.95989025 0.96218651 0.96999177 0.98030124 0.97766009 0.95871925\n",
      "  0.97253035 0.98095421 0.98033158 0.9734574  0.99125436 0.97604183\n",
      "  0.99072203 1.00579882 0.99865513 1.02111152 1.0036367  1.0082606\n",
      "  1.00902252 1.01570838 1.01038408 1.01083631 1.00991329 1.01644472\n",
      "  1.03505774 1.02977235 1.0429112  1.04935428 1.05102181 1.06136467\n",
      "  1.06203764 1.06930609 1.07410588 1.07450293 1.06983904 1.06886642\n",
      "  1.08113821 1.07422226 1.07574484 1.08719337 1.08928019 1.08881528\n",
      "  1.10004013 1.10487387 1.10612209 1.10814665 1.11071669 1.11115936\n",
      "  1.1176036  1.11943819 1.11986805 1.11945275 1.12123346 1.12785228\n",
      "  1.12662584 1.13088033 1.12894691 1.13309915 1.13170851 1.13645593\n",
      "  1.14654974 1.14634381 1.14768699 1.15192534 1.15037892 1.15527266\n",
      "  1.16202828 1.15952277 1.15668701 1.16480756]]\n",
      "13 day output: [1.15798804]\n",
      "14 day input: [[0.95994414 0.98049691 0.98294279 0.96385792 0.97158516 0.96467027\n",
      "  0.97701736 0.95609124 0.95971168 0.94564823 0.94763488 0.95855879\n",
      "  0.9672527  0.9681693  0.99251774 0.97246167 0.97463433 0.97299241\n",
      "  0.96940152 0.97203379 0.98159373 0.96572438 0.95494976 0.9732422\n",
      "  0.95056484 0.95427143 0.95674533 0.93970429 0.94264386 0.95989025\n",
      "  0.96218651 0.96999177 0.98030124 0.97766009 0.95871925 0.97253035\n",
      "  0.98095421 0.98033158 0.9734574  0.99125436 0.97604183 0.99072203\n",
      "  1.00579882 0.99865513 1.02111152 1.0036367  1.0082606  1.00902252\n",
      "  1.01570838 1.01038408 1.01083631 1.00991329 1.01644472 1.03505774\n",
      "  1.02977235 1.0429112  1.04935428 1.05102181 1.06136467 1.06203764\n",
      "  1.06930609 1.07410588 1.07450293 1.06983904 1.06886642 1.08113821\n",
      "  1.07422226 1.07574484 1.08719337 1.08928019 1.08881528 1.10004013\n",
      "  1.10487387 1.10612209 1.10814665 1.11071669 1.11115936 1.1176036\n",
      "  1.11943819 1.11986805 1.11945275 1.12123346 1.12785228 1.12662584\n",
      "  1.13088033 1.12894691 1.13309915 1.13170851 1.13645593 1.14654974\n",
      "  1.14634381 1.14768699 1.15192534 1.15037892 1.15527266 1.16202828\n",
      "  1.15952277 1.15668701 1.16480756 1.15798804]]\n",
      "14 day output: [1.16519716]\n",
      "15 day input: [[0.98049691 0.98294279 0.96385792 0.97158516 0.96467027 0.97701736\n",
      "  0.95609124 0.95971168 0.94564823 0.94763488 0.95855879 0.9672527\n",
      "  0.9681693  0.99251774 0.97246167 0.97463433 0.97299241 0.96940152\n",
      "  0.97203379 0.98159373 0.96572438 0.95494976 0.9732422  0.95056484\n",
      "  0.95427143 0.95674533 0.93970429 0.94264386 0.95989025 0.96218651\n",
      "  0.96999177 0.98030124 0.97766009 0.95871925 0.97253035 0.98095421\n",
      "  0.98033158 0.9734574  0.99125436 0.97604183 0.99072203 1.00579882\n",
      "  0.99865513 1.02111152 1.0036367  1.0082606  1.00902252 1.01570838\n",
      "  1.01038408 1.01083631 1.00991329 1.01644472 1.03505774 1.02977235\n",
      "  1.0429112  1.04935428 1.05102181 1.06136467 1.06203764 1.06930609\n",
      "  1.07410588 1.07450293 1.06983904 1.06886642 1.08113821 1.07422226\n",
      "  1.07574484 1.08719337 1.08928019 1.08881528 1.10004013 1.10487387\n",
      "  1.10612209 1.10814665 1.11071669 1.11115936 1.1176036  1.11943819\n",
      "  1.11986805 1.11945275 1.12123346 1.12785228 1.12662584 1.13088033\n",
      "  1.12894691 1.13309915 1.13170851 1.13645593 1.14654974 1.14634381\n",
      "  1.14768699 1.15192534 1.15037892 1.15527266 1.16202828 1.15952277\n",
      "  1.15668701 1.16480756 1.15798804 1.16519716]]\n",
      "15 day output: [1.17138489]\n",
      "16 day input: [[0.98294279 0.96385792 0.97158516 0.96467027 0.97701736 0.95609124\n",
      "  0.95971168 0.94564823 0.94763488 0.95855879 0.9672527  0.9681693\n",
      "  0.99251774 0.97246167 0.97463433 0.97299241 0.96940152 0.97203379\n",
      "  0.98159373 0.96572438 0.95494976 0.9732422  0.95056484 0.95427143\n",
      "  0.95674533 0.93970429 0.94264386 0.95989025 0.96218651 0.96999177\n",
      "  0.98030124 0.97766009 0.95871925 0.97253035 0.98095421 0.98033158\n",
      "  0.9734574  0.99125436 0.97604183 0.99072203 1.00579882 0.99865513\n",
      "  1.02111152 1.0036367  1.0082606  1.00902252 1.01570838 1.01038408\n",
      "  1.01083631 1.00991329 1.01644472 1.03505774 1.02977235 1.0429112\n",
      "  1.04935428 1.05102181 1.06136467 1.06203764 1.06930609 1.07410588\n",
      "  1.07450293 1.06983904 1.06886642 1.08113821 1.07422226 1.07574484\n",
      "  1.08719337 1.08928019 1.08881528 1.10004013 1.10487387 1.10612209\n",
      "  1.10814665 1.11071669 1.11115936 1.1176036  1.11943819 1.11986805\n",
      "  1.11945275 1.12123346 1.12785228 1.12662584 1.13088033 1.12894691\n",
      "  1.13309915 1.13170851 1.13645593 1.14654974 1.14634381 1.14768699\n",
      "  1.15192534 1.15037892 1.15527266 1.16202828 1.15952277 1.15668701\n",
      "  1.16480756 1.15798804 1.16519716 1.17138489]]\n",
      "16 day output: [1.16622712]\n",
      "17 day input: [[0.96385792 0.97158516 0.96467027 0.97701736 0.95609124 0.95971168\n",
      "  0.94564823 0.94763488 0.95855879 0.9672527  0.9681693  0.99251774\n",
      "  0.97246167 0.97463433 0.97299241 0.96940152 0.97203379 0.98159373\n",
      "  0.96572438 0.95494976 0.9732422  0.95056484 0.95427143 0.95674533\n",
      "  0.93970429 0.94264386 0.95989025 0.96218651 0.96999177 0.98030124\n",
      "  0.97766009 0.95871925 0.97253035 0.98095421 0.98033158 0.9734574\n",
      "  0.99125436 0.97604183 0.99072203 1.00579882 0.99865513 1.02111152\n",
      "  1.0036367  1.0082606  1.00902252 1.01570838 1.01038408 1.01083631\n",
      "  1.00991329 1.01644472 1.03505774 1.02977235 1.0429112  1.04935428\n",
      "  1.05102181 1.06136467 1.06203764 1.06930609 1.07410588 1.07450293\n",
      "  1.06983904 1.06886642 1.08113821 1.07422226 1.07574484 1.08719337\n",
      "  1.08928019 1.08881528 1.10004013 1.10487387 1.10612209 1.10814665\n",
      "  1.11071669 1.11115936 1.1176036  1.11943819 1.11986805 1.11945275\n",
      "  1.12123346 1.12785228 1.12662584 1.13088033 1.12894691 1.13309915\n",
      "  1.13170851 1.13645593 1.14654974 1.14634381 1.14768699 1.15192534\n",
      "  1.15037892 1.15527266 1.16202828 1.15952277 1.15668701 1.16480756\n",
      "  1.15798804 1.16519716 1.17138489 1.16622712]]\n",
      "17 day output: [1.16955531]\n",
      "18 day input: [[0.97158516 0.96467027 0.97701736 0.95609124 0.95971168 0.94564823\n",
      "  0.94763488 0.95855879 0.9672527  0.9681693  0.99251774 0.97246167\n",
      "  0.97463433 0.97299241 0.96940152 0.97203379 0.98159373 0.96572438\n",
      "  0.95494976 0.9732422  0.95056484 0.95427143 0.95674533 0.93970429\n",
      "  0.94264386 0.95989025 0.96218651 0.96999177 0.98030124 0.97766009\n",
      "  0.95871925 0.97253035 0.98095421 0.98033158 0.9734574  0.99125436\n",
      "  0.97604183 0.99072203 1.00579882 0.99865513 1.02111152 1.0036367\n",
      "  1.0082606  1.00902252 1.01570838 1.01038408 1.01083631 1.00991329\n",
      "  1.01644472 1.03505774 1.02977235 1.0429112  1.04935428 1.05102181\n",
      "  1.06136467 1.06203764 1.06930609 1.07410588 1.07450293 1.06983904\n",
      "  1.06886642 1.08113821 1.07422226 1.07574484 1.08719337 1.08928019\n",
      "  1.08881528 1.10004013 1.10487387 1.10612209 1.10814665 1.11071669\n",
      "  1.11115936 1.1176036  1.11943819 1.11986805 1.11945275 1.12123346\n",
      "  1.12785228 1.12662584 1.13088033 1.12894691 1.13309915 1.13170851\n",
      "  1.13645593 1.14654974 1.14634381 1.14768699 1.15192534 1.15037892\n",
      "  1.15527266 1.16202828 1.15952277 1.15668701 1.16480756 1.15798804\n",
      "  1.16519716 1.17138489 1.16622712 1.16955531]]\n",
      "18 day output: [1.17060789]\n",
      "19 day input: [[0.96467027 0.97701736 0.95609124 0.95971168 0.94564823 0.94763488\n",
      "  0.95855879 0.9672527  0.9681693  0.99251774 0.97246167 0.97463433\n",
      "  0.97299241 0.96940152 0.97203379 0.98159373 0.96572438 0.95494976\n",
      "  0.9732422  0.95056484 0.95427143 0.95674533 0.93970429 0.94264386\n",
      "  0.95989025 0.96218651 0.96999177 0.98030124 0.97766009 0.95871925\n",
      "  0.97253035 0.98095421 0.98033158 0.9734574  0.99125436 0.97604183\n",
      "  0.99072203 1.00579882 0.99865513 1.02111152 1.0036367  1.0082606\n",
      "  1.00902252 1.01570838 1.01038408 1.01083631 1.00991329 1.01644472\n",
      "  1.03505774 1.02977235 1.0429112  1.04935428 1.05102181 1.06136467\n",
      "  1.06203764 1.06930609 1.07410588 1.07450293 1.06983904 1.06886642\n",
      "  1.08113821 1.07422226 1.07574484 1.08719337 1.08928019 1.08881528\n",
      "  1.10004013 1.10487387 1.10612209 1.10814665 1.11071669 1.11115936\n",
      "  1.1176036  1.11943819 1.11986805 1.11945275 1.12123346 1.12785228\n",
      "  1.12662584 1.13088033 1.12894691 1.13309915 1.13170851 1.13645593\n",
      "  1.14654974 1.14634381 1.14768699 1.15192534 1.15037892 1.15527266\n",
      "  1.16202828 1.15952277 1.15668701 1.16480756 1.15798804 1.16519716\n",
      "  1.17138489 1.16622712 1.16955531 1.17060789]]\n",
      "19 day output: [1.17598907]\n",
      "20 day input: [[0.97701736 0.95609124 0.95971168 0.94564823 0.94763488 0.95855879\n",
      "  0.9672527  0.9681693  0.99251774 0.97246167 0.97463433 0.97299241\n",
      "  0.96940152 0.97203379 0.98159373 0.96572438 0.95494976 0.9732422\n",
      "  0.95056484 0.95427143 0.95674533 0.93970429 0.94264386 0.95989025\n",
      "  0.96218651 0.96999177 0.98030124 0.97766009 0.95871925 0.97253035\n",
      "  0.98095421 0.98033158 0.9734574  0.99125436 0.97604183 0.99072203\n",
      "  1.00579882 0.99865513 1.02111152 1.0036367  1.0082606  1.00902252\n",
      "  1.01570838 1.01038408 1.01083631 1.00991329 1.01644472 1.03505774\n",
      "  1.02977235 1.0429112  1.04935428 1.05102181 1.06136467 1.06203764\n",
      "  1.06930609 1.07410588 1.07450293 1.06983904 1.06886642 1.08113821\n",
      "  1.07422226 1.07574484 1.08719337 1.08928019 1.08881528 1.10004013\n",
      "  1.10487387 1.10612209 1.10814665 1.11071669 1.11115936 1.1176036\n",
      "  1.11943819 1.11986805 1.11945275 1.12123346 1.12785228 1.12662584\n",
      "  1.13088033 1.12894691 1.13309915 1.13170851 1.13645593 1.14654974\n",
      "  1.14634381 1.14768699 1.15192534 1.15037892 1.15527266 1.16202828\n",
      "  1.15952277 1.15668701 1.16480756 1.15798804 1.16519716 1.17138489\n",
      "  1.16622712 1.16955531 1.17060789 1.17598907]]\n",
      "20 day output: [1.1793075]\n",
      "21 day input: [[0.95609124 0.95971168 0.94564823 0.94763488 0.95855879 0.9672527\n",
      "  0.9681693  0.99251774 0.97246167 0.97463433 0.97299241 0.96940152\n",
      "  0.97203379 0.98159373 0.96572438 0.95494976 0.9732422  0.95056484\n",
      "  0.95427143 0.95674533 0.93970429 0.94264386 0.95989025 0.96218651\n",
      "  0.96999177 0.98030124 0.97766009 0.95871925 0.97253035 0.98095421\n",
      "  0.98033158 0.9734574  0.99125436 0.97604183 0.99072203 1.00579882\n",
      "  0.99865513 1.02111152 1.0036367  1.0082606  1.00902252 1.01570838\n",
      "  1.01038408 1.01083631 1.00991329 1.01644472 1.03505774 1.02977235\n",
      "  1.0429112  1.04935428 1.05102181 1.06136467 1.06203764 1.06930609\n",
      "  1.07410588 1.07450293 1.06983904 1.06886642 1.08113821 1.07422226\n",
      "  1.07574484 1.08719337 1.08928019 1.08881528 1.10004013 1.10487387\n",
      "  1.10612209 1.10814665 1.11071669 1.11115936 1.1176036  1.11943819\n",
      "  1.11986805 1.11945275 1.12123346 1.12785228 1.12662584 1.13088033\n",
      "  1.12894691 1.13309915 1.13170851 1.13645593 1.14654974 1.14634381\n",
      "  1.14768699 1.15192534 1.15037892 1.15527266 1.16202828 1.15952277\n",
      "  1.15668701 1.16480756 1.15798804 1.16519716 1.17138489 1.16622712\n",
      "  1.16955531 1.17060789 1.17598907 1.1793075 ]]\n",
      "21 day output: [1.18595749]\n",
      "22 day input: [[0.95971168 0.94564823 0.94763488 0.95855879 0.9672527  0.9681693\n",
      "  0.99251774 0.97246167 0.97463433 0.97299241 0.96940152 0.97203379\n",
      "  0.98159373 0.96572438 0.95494976 0.9732422  0.95056484 0.95427143\n",
      "  0.95674533 0.93970429 0.94264386 0.95989025 0.96218651 0.96999177\n",
      "  0.98030124 0.97766009 0.95871925 0.97253035 0.98095421 0.98033158\n",
      "  0.9734574  0.99125436 0.97604183 0.99072203 1.00579882 0.99865513\n",
      "  1.02111152 1.0036367  1.0082606  1.00902252 1.01570838 1.01038408\n",
      "  1.01083631 1.00991329 1.01644472 1.03505774 1.02977235 1.0429112\n",
      "  1.04935428 1.05102181 1.06136467 1.06203764 1.06930609 1.07410588\n",
      "  1.07450293 1.06983904 1.06886642 1.08113821 1.07422226 1.07574484\n",
      "  1.08719337 1.08928019 1.08881528 1.10004013 1.10487387 1.10612209\n",
      "  1.10814665 1.11071669 1.11115936 1.1176036  1.11943819 1.11986805\n",
      "  1.11945275 1.12123346 1.12785228 1.12662584 1.13088033 1.12894691\n",
      "  1.13309915 1.13170851 1.13645593 1.14654974 1.14634381 1.14768699\n",
      "  1.15192534 1.15037892 1.15527266 1.16202828 1.15952277 1.15668701\n",
      "  1.16480756 1.15798804 1.16519716 1.17138489 1.16622712 1.16955531\n",
      "  1.17060789 1.17598907 1.1793075  1.18595749]]\n",
      "22 day output: [1.184734]\n",
      "23 day input: [[0.94564823 0.94763488 0.95855879 0.9672527  0.9681693  0.99251774\n",
      "  0.97246167 0.97463433 0.97299241 0.96940152 0.97203379 0.98159373\n",
      "  0.96572438 0.95494976 0.9732422  0.95056484 0.95427143 0.95674533\n",
      "  0.93970429 0.94264386 0.95989025 0.96218651 0.96999177 0.98030124\n",
      "  0.97766009 0.95871925 0.97253035 0.98095421 0.98033158 0.9734574\n",
      "  0.99125436 0.97604183 0.99072203 1.00579882 0.99865513 1.02111152\n",
      "  1.0036367  1.0082606  1.00902252 1.01570838 1.01038408 1.01083631\n",
      "  1.00991329 1.01644472 1.03505774 1.02977235 1.0429112  1.04935428\n",
      "  1.05102181 1.06136467 1.06203764 1.06930609 1.07410588 1.07450293\n",
      "  1.06983904 1.06886642 1.08113821 1.07422226 1.07574484 1.08719337\n",
      "  1.08928019 1.08881528 1.10004013 1.10487387 1.10612209 1.10814665\n",
      "  1.11071669 1.11115936 1.1176036  1.11943819 1.11986805 1.11945275\n",
      "  1.12123346 1.12785228 1.12662584 1.13088033 1.12894691 1.13309915\n",
      "  1.13170851 1.13645593 1.14654974 1.14634381 1.14768699 1.15192534\n",
      "  1.15037892 1.15527266 1.16202828 1.15952277 1.15668701 1.16480756\n",
      "  1.15798804 1.16519716 1.17138489 1.16622712 1.16955531 1.17060789\n",
      "  1.17598907 1.1793075  1.18595749 1.184734  ]]\n",
      "23 day output: [1.18712466]\n",
      "24 day input: [[0.94763488 0.95855879 0.9672527  0.9681693  0.99251774 0.97246167\n",
      "  0.97463433 0.97299241 0.96940152 0.97203379 0.98159373 0.96572438\n",
      "  0.95494976 0.9732422  0.95056484 0.95427143 0.95674533 0.93970429\n",
      "  0.94264386 0.95989025 0.96218651 0.96999177 0.98030124 0.97766009\n",
      "  0.95871925 0.97253035 0.98095421 0.98033158 0.9734574  0.99125436\n",
      "  0.97604183 0.99072203 1.00579882 0.99865513 1.02111152 1.0036367\n",
      "  1.0082606  1.00902252 1.01570838 1.01038408 1.01083631 1.00991329\n",
      "  1.01644472 1.03505774 1.02977235 1.0429112  1.04935428 1.05102181\n",
      "  1.06136467 1.06203764 1.06930609 1.07410588 1.07450293 1.06983904\n",
      "  1.06886642 1.08113821 1.07422226 1.07574484 1.08719337 1.08928019\n",
      "  1.08881528 1.10004013 1.10487387 1.10612209 1.10814665 1.11071669\n",
      "  1.11115936 1.1176036  1.11943819 1.11986805 1.11945275 1.12123346\n",
      "  1.12785228 1.12662584 1.13088033 1.12894691 1.13309915 1.13170851\n",
      "  1.13645593 1.14654974 1.14634381 1.14768699 1.15192534 1.15037892\n",
      "  1.15527266 1.16202828 1.15952277 1.15668701 1.16480756 1.15798804\n",
      "  1.16519716 1.17138489 1.16622712 1.16955531 1.17060789 1.17598907\n",
      "  1.1793075  1.18595749 1.184734   1.18712466]]\n",
      "24 day output: [1.19016841]\n",
      "25 day input: [[0.95855879 0.9672527  0.9681693  0.99251774 0.97246167 0.97463433\n",
      "  0.97299241 0.96940152 0.97203379 0.98159373 0.96572438 0.95494976\n",
      "  0.9732422  0.95056484 0.95427143 0.95674533 0.93970429 0.94264386\n",
      "  0.95989025 0.96218651 0.96999177 0.98030124 0.97766009 0.95871925\n",
      "  0.97253035 0.98095421 0.98033158 0.9734574  0.99125436 0.97604183\n",
      "  0.99072203 1.00579882 0.99865513 1.02111152 1.0036367  1.0082606\n",
      "  1.00902252 1.01570838 1.01038408 1.01083631 1.00991329 1.01644472\n",
      "  1.03505774 1.02977235 1.0429112  1.04935428 1.05102181 1.06136467\n",
      "  1.06203764 1.06930609 1.07410588 1.07450293 1.06983904 1.06886642\n",
      "  1.08113821 1.07422226 1.07574484 1.08719337 1.08928019 1.08881528\n",
      "  1.10004013 1.10487387 1.10612209 1.10814665 1.11071669 1.11115936\n",
      "  1.1176036  1.11943819 1.11986805 1.11945275 1.12123346 1.12785228\n",
      "  1.12662584 1.13088033 1.12894691 1.13309915 1.13170851 1.13645593\n",
      "  1.14654974 1.14634381 1.14768699 1.15192534 1.15037892 1.15527266\n",
      "  1.16202828 1.15952277 1.15668701 1.16480756 1.15798804 1.16519716\n",
      "  1.17138489 1.16622712 1.16955531 1.17060789 1.17598907 1.1793075\n",
      "  1.18595749 1.184734   1.18712466 1.19016841]]\n",
      "25 day output: [1.19554716]\n",
      "26 day input: [[0.9672527  0.9681693  0.99251774 0.97246167 0.97463433 0.97299241\n",
      "  0.96940152 0.97203379 0.98159373 0.96572438 0.95494976 0.9732422\n",
      "  0.95056484 0.95427143 0.95674533 0.93970429 0.94264386 0.95989025\n",
      "  0.96218651 0.96999177 0.98030124 0.97766009 0.95871925 0.97253035\n",
      "  0.98095421 0.98033158 0.9734574  0.99125436 0.97604183 0.99072203\n",
      "  1.00579882 0.99865513 1.02111152 1.0036367  1.0082606  1.00902252\n",
      "  1.01570838 1.01038408 1.01083631 1.00991329 1.01644472 1.03505774\n",
      "  1.02977235 1.0429112  1.04935428 1.05102181 1.06136467 1.06203764\n",
      "  1.06930609 1.07410588 1.07450293 1.06983904 1.06886642 1.08113821\n",
      "  1.07422226 1.07574484 1.08719337 1.08928019 1.08881528 1.10004013\n",
      "  1.10487387 1.10612209 1.10814665 1.11071669 1.11115936 1.1176036\n",
      "  1.11943819 1.11986805 1.11945275 1.12123346 1.12785228 1.12662584\n",
      "  1.13088033 1.12894691 1.13309915 1.13170851 1.13645593 1.14654974\n",
      "  1.14634381 1.14768699 1.15192534 1.15037892 1.15527266 1.16202828\n",
      "  1.15952277 1.15668701 1.16480756 1.15798804 1.16519716 1.17138489\n",
      "  1.16622712 1.16955531 1.17060789 1.17598907 1.1793075  1.18595749\n",
      "  1.184734   1.18712466 1.19016841 1.19554716]]\n",
      "26 day output: [1.19605955]\n",
      "27 day input: [[0.9681693  0.99251774 0.97246167 0.97463433 0.97299241 0.96940152\n",
      "  0.97203379 0.98159373 0.96572438 0.95494976 0.9732422  0.95056484\n",
      "  0.95427143 0.95674533 0.93970429 0.94264386 0.95989025 0.96218651\n",
      "  0.96999177 0.98030124 0.97766009 0.95871925 0.97253035 0.98095421\n",
      "  0.98033158 0.9734574  0.99125436 0.97604183 0.99072203 1.00579882\n",
      "  0.99865513 1.02111152 1.0036367  1.0082606  1.00902252 1.01570838\n",
      "  1.01038408 1.01083631 1.00991329 1.01644472 1.03505774 1.02977235\n",
      "  1.0429112  1.04935428 1.05102181 1.06136467 1.06203764 1.06930609\n",
      "  1.07410588 1.07450293 1.06983904 1.06886642 1.08113821 1.07422226\n",
      "  1.07574484 1.08719337 1.08928019 1.08881528 1.10004013 1.10487387\n",
      "  1.10612209 1.10814665 1.11071669 1.11115936 1.1176036  1.11943819\n",
      "  1.11986805 1.11945275 1.12123346 1.12785228 1.12662584 1.13088033\n",
      "  1.12894691 1.13309915 1.13170851 1.13645593 1.14654974 1.14634381\n",
      "  1.14768699 1.15192534 1.15037892 1.15527266 1.16202828 1.15952277\n",
      "  1.15668701 1.16480756 1.15798804 1.16519716 1.17138489 1.16622712\n",
      "  1.16955531 1.17060789 1.17598907 1.1793075  1.18595749 1.184734\n",
      "  1.18712466 1.19016841 1.19554716 1.19605955]]\n",
      "27 day output: [1.20247004]\n",
      "28 day input: [[0.99251774 0.97246167 0.97463433 0.97299241 0.96940152 0.97203379\n",
      "  0.98159373 0.96572438 0.95494976 0.9732422  0.95056484 0.95427143\n",
      "  0.95674533 0.93970429 0.94264386 0.95989025 0.96218651 0.96999177\n",
      "  0.98030124 0.97766009 0.95871925 0.97253035 0.98095421 0.98033158\n",
      "  0.9734574  0.99125436 0.97604183 0.99072203 1.00579882 0.99865513\n",
      "  1.02111152 1.0036367  1.0082606  1.00902252 1.01570838 1.01038408\n",
      "  1.01083631 1.00991329 1.01644472 1.03505774 1.02977235 1.0429112\n",
      "  1.04935428 1.05102181 1.06136467 1.06203764 1.06930609 1.07410588\n",
      "  1.07450293 1.06983904 1.06886642 1.08113821 1.07422226 1.07574484\n",
      "  1.08719337 1.08928019 1.08881528 1.10004013 1.10487387 1.10612209\n",
      "  1.10814665 1.11071669 1.11115936 1.1176036  1.11943819 1.11986805\n",
      "  1.11945275 1.12123346 1.12785228 1.12662584 1.13088033 1.12894691\n",
      "  1.13309915 1.13170851 1.13645593 1.14654974 1.14634381 1.14768699\n",
      "  1.15192534 1.15037892 1.15527266 1.16202828 1.15952277 1.15668701\n",
      "  1.16480756 1.15798804 1.16519716 1.17138489 1.16622712 1.16955531\n",
      "  1.17060789 1.17598907 1.1793075  1.18595749 1.184734   1.18712466\n",
      "  1.19016841 1.19554716 1.19605955 1.20247004]]\n",
      "28 day output: [1.2035989]\n",
      "29 day input: [[0.97246167 0.97463433 0.97299241 0.96940152 0.97203379 0.98159373\n",
      "  0.96572438 0.95494976 0.9732422  0.95056484 0.95427143 0.95674533\n",
      "  0.93970429 0.94264386 0.95989025 0.96218651 0.96999177 0.98030124\n",
      "  0.97766009 0.95871925 0.97253035 0.98095421 0.98033158 0.9734574\n",
      "  0.99125436 0.97604183 0.99072203 1.00579882 0.99865513 1.02111152\n",
      "  1.0036367  1.0082606  1.00902252 1.01570838 1.01038408 1.01083631\n",
      "  1.00991329 1.01644472 1.03505774 1.02977235 1.0429112  1.04935428\n",
      "  1.05102181 1.06136467 1.06203764 1.06930609 1.07410588 1.07450293\n",
      "  1.06983904 1.06886642 1.08113821 1.07422226 1.07574484 1.08719337\n",
      "  1.08928019 1.08881528 1.10004013 1.10487387 1.10612209 1.10814665\n",
      "  1.11071669 1.11115936 1.1176036  1.11943819 1.11986805 1.11945275\n",
      "  1.12123346 1.12785228 1.12662584 1.13088033 1.12894691 1.13309915\n",
      "  1.13170851 1.13645593 1.14654974 1.14634381 1.14768699 1.15192534\n",
      "  1.15037892 1.15527266 1.16202828 1.15952277 1.15668701 1.16480756\n",
      "  1.15798804 1.16519716 1.17138489 1.16622712 1.16955531 1.17060789\n",
      "  1.17598907 1.1793075  1.18595749 1.184734   1.18712466 1.19016841\n",
      "  1.19554716 1.19605955 1.20247004 1.2035989 ]]\n",
      "29 day output: [1.20352364]\n",
      "[[1.133099152495316], [1.1317085111743945], [1.1364559323812595], [1.1465497394169142], [1.1463438065158469], [1.147686985858885], [1.1519253404985808], [1.150378924001834], [1.1552726607870736], [1.1620282763551968], [1.159522770306539], [1.1566870054364546], [1.1648075570801262], [1.1579880434210743], [1.1651971589427332], [1.1713848944030736], [1.1662271212276143], [1.1695553098039935], [1.170607888211224], [1.1759890654351586], [1.179307504057277], [1.1859574905993373], [1.1847340017527501], [1.1871246591684517], [1.1901684064522629], [1.1955471616402757], [1.1960595472910307], [1.2024700404256996], [1.2035989041622193], [1.203523644865029]]\n"
     ]
    }
   ],
   "source": [
    "import numpy as np\n",
    "import pandas as pd\n",
    "\n",
    "lst_output = []\n",
    "n_steps = 100\n",
    "i = 0\n",
    "\n",
    "output_table = []\n",
    "\n",
    "while i < 30:\n",
    "    if len(temp_input) > 100:\n",
    "        x_input = np.array(temp_input[1:])\n",
    "        x_input = x_input.reshape(1, -1)\n",
    "        yhat = model.predict(x_input)\n",
    "        \n",
    "        print(\"{} day input: {}\".format(i, x_input))\n",
    "        print(\"{} day output: {}\".format(i, yhat))\n",
    "        \n",
    "        temp_input.extend([yhat[0].tolist()])\n",
    "        temp_input = temp_input[1:]\n",
    "        lst_output.extend([yhat.tolist()])\n",
    "        \n",
    "        output_table.append([i, yhat[0]])\n",
    "        \n",
    "        i += 1\n",
    "    \n",
    "    else:\n",
    "        yhat = model.predict(x_input)\n",
    "        temp_input.extend([yhat[0].tolist()])\n",
    "        lst_output.extend([yhat.tolist()])\n",
    "        \n",
    "        output_table.append([i, yhat[0]])\n",
    "        \n",
    "        i += 1\n",
    "\n",
    "print(lst_output)"
   ]
  },
  {
   "cell_type": "code",
   "execution_count": 63,
   "id": "c618a961",
   "metadata": {},
   "outputs": [
    {
     "name": "stdout",
     "output_type": "stream",
     "text": [
      "    Day Number  Prediction\n",
      "0            0    1.133099\n",
      "1            1    1.131709\n",
      "2            2    1.136456\n",
      "3            3    1.146550\n",
      "4            4    1.146344\n",
      "5            5    1.147687\n",
      "6            6    1.151925\n",
      "7            7    1.150379\n",
      "8            8    1.155273\n",
      "9            9    1.162028\n",
      "10          10    1.159523\n",
      "11          11    1.156687\n",
      "12          12    1.164808\n",
      "13          13    1.157988\n",
      "14          14    1.165197\n",
      "15          15    1.171385\n",
      "16          16    1.166227\n",
      "17          17    1.169555\n",
      "18          18    1.170608\n",
      "19          19    1.175989\n",
      "20          20    1.179308\n",
      "21          21    1.185957\n",
      "22          22    1.184734\n",
      "23          23    1.187125\n",
      "24          24    1.190168\n",
      "25          25    1.195547\n",
      "26          26    1.196060\n",
      "27          27    1.202470\n",
      "28          28    1.203599\n",
      "29          29    1.203524\n"
     ]
    }
   ],
   "source": [
    "# Final Prediction Per Day\n",
    "df = pd.DataFrame(output_table, columns=[\"Day Number\", \"Prediction\"])\n",
    "print(df)"
   ]
  },
  {
   "cell_type": "code",
   "execution_count": 64,
   "id": "f899087b",
   "metadata": {},
   "outputs": [],
   "source": [
    "day_new = np.arange(1,101)\n",
    "day_pred = np.arange(101,131)"
   ]
  },
  {
   "cell_type": "code",
   "execution_count": 65,
   "id": "9692339a",
   "metadata": {},
   "outputs": [
    {
     "data": {
      "text/plain": [
       "[<matplotlib.lines.Line2D at 0x168778bd0>]"
      ]
     },
     "execution_count": 65,
     "metadata": {},
     "output_type": "execute_result"
    },
    {
     "data": {
      "image/png": "[encoded data removed]",
      "text/plain": [
       "<Figure size 1200x800 with 1 Axes>"
      ]
     },
     "metadata": {},
     "output_type": "display_data"
    }
   ],
   "source": [
    "plt.figure(figsize=(12,8))\n",
    "plt.plot(day_new, scaler.inverse_transform(df1[1158:]))\n",
    "plt.plot(day_pred, scaler.inverse_transform(lst_output))"
   ]
  },
  {
   "cell_type": "code",
   "execution_count": null,
   "id": "9ad47c66",
   "metadata": {},
   "outputs": [],
   "source": []
  }
 ],
 "metadata": {
  "kernelspec": {
   "display_name": "Python 3 (ipykernel)",
   "language": "python",
   "name": "python3"
  },
  "language_info": {
   "codemirror_mode": {
    "name": "ipython",
    "version": 3
   },
   "file_extension": ".py",
   "mimetype": "text/x-python",
   "name": "python",
   "nbconvert_exporter": "python",
   "pygments_lexer": "ipython3",
   "version": "3.11.5"
  }
 },
 "nbformat": 4,
 "nbformat_minor": 5
}
